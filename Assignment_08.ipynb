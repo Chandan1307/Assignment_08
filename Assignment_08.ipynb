{
 "cells": [
  {
   "cell_type": "markdown",
   "id": "ae079e4b-cc23-4106-8127-6c0158da5aa4",
   "metadata": {},
   "source": [
    "Q1. You are writing code for a company. The requirement of the company is that you create a python\n",
    "function that will check whether the password entered by the user is correct or not. The function should\n",
    "take the password as input and return the string “Valid Password” if the entered password follows the\n",
    "below-given password guidelines else it should return “Invalid Password”.\n",
    "\n",
    "\n",
    "Note: 1. The Password should contain at least two uppercase letters and at least two lowercase letters.\n",
    "\n",
    "2. The Password should contain at least a number and three special characters.\n",
    "\n",
    "3. The length of the password should be 10 characters long."
   ]
  },
  {
   "cell_type": "code",
   "execution_count": 24,
   "id": "d3605c26-c159-4ecf-b5a2-efbf36fb5050",
   "metadata": {},
   "outputs": [],
   "source": [
    "import re\n",
    "\n",
    "def check_password(password):\n",
    "    # check if password is 10 character long\n",
    "    if len(password) != 10:\n",
    "        return \"Invaild Password\"\n",
    "    # check if password contains at least two uppercase Letter and two Lowercase letters\n",
    "    upper_letters = re.findall(r'[A-Z]', password)\n",
    "    lower_letters = re.findall(r'[a-z]', password)\n",
    "    if len(upper_letters) < 2 or len(lower_letters) < 2:\n",
    "        return \"Invaild Password\"\n",
    "    \n",
    "    # Check if password contains at least a number and three special characters\n",
    "    numbers = re.findall(r'\\d', password)\n",
    "    special_characters = re.findall(r'[!@#$%^&*(),.:;{}<>]', password)\n",
    "    if len(numbers) < 1 or len(special_characters) < 3:\n",
    "        return \"Invalid Password\"\n",
    "    \n",
    "    return \"Valid Password\""
   ]
  },
  {
   "cell_type": "code",
   "execution_count": 42,
   "id": "d5bd001d-19e3-4e8c-a60a-f5b20bc96ace",
   "metadata": {},
   "outputs": [
    {
     "ename": "SyntaxError",
     "evalue": "incomplete input (2236379228.py, line 1)",
     "output_type": "error",
     "traceback": [
      "\u001b[0;36m  Cell \u001b[0;32mIn[42], line 1\u001b[0;36m\u001b[0m\n\u001b[0;31m    check_password(Chan@#1398)\u001b[0m\n\u001b[0m                              ^\u001b[0m\n\u001b[0;31mSyntaxError\u001b[0m\u001b[0;31m:\u001b[0m incomplete input\n"
     ]
    }
   ],
   "source": [
    "check_password(Chan@#1398)"
   ]
  },
  {
   "cell_type": "markdown",
   "id": "056633fc-1606-480c-80b5-fe2f5e789dd8",
   "metadata": {},
   "source": [
    "Q2. Solve the below-given questions using at least one of the following:\n",
    "\n",
    "1. Lambda function\n",
    "2. Filter function\n",
    "3. Zap function\n",
    "4. List Comprehension\n",
    "\n",
    "- Check if the string starts with a particular letter.\n",
    "\n",
    "- Check if the string is numeric.\n",
    "\n",
    "- Sort a list of tuples having fruit names and their quantity. [(\"mango\",99),(\"orange\",80), (\"grapes\", 1000)-\n",
    "\n",
    "- Find the squares of numbers from 1 to 10.\n",
    "\n",
    "- Find the cube root of numbers from 1 to 10.\n",
    "\n",
    "- Check if a given number is even.\n",
    "\n",
    "- Filter odd numbers from the given list.\n",
    "[1,2,3,4,5,6,7,8,9,10-]\n",
    "\n",
    "- Sort a list of integers into positive and negative integers lists.\n",
    "[1,2,3,4,5,6,-1,-2,-3,-4,-5,0]"
   ]
  },
  {
   "cell_type": "code",
   "execution_count": 39,
   "id": "9fe22b07-3b8b-44a0-a37f-ca0356aa46cb",
   "metadata": {},
   "outputs": [
    {
     "name": "stdout",
     "output_type": "stream",
     "text": [
      "['chandan']\n"
     ]
    }
   ],
   "source": [
    "# Check if the string starts with a particular letter:\n",
    "def check_start_letter(strings, letter):\n",
    "    return list(filter(lambda x: x.startswith(letter), strings))\n",
    "\n",
    "strings = ['chandan', 'pwskills', 'datascience', 'python']\n",
    "print(check_start_letter(strings, 'c'))\n"
   ]
  },
  {
   "cell_type": "code",
   "execution_count": 43,
   "id": "037caa4a-ce6c-4cac-b654-66372ae744d1",
   "metadata": {},
   "outputs": [
    {
     "name": "stdout",
     "output_type": "stream",
     "text": [
      "['123', '4506']\n"
     ]
    }
   ],
   "source": [
    "# Check if the string is numeric:\n",
    "def check_numeric(strings):\n",
    "    return list(filter(lambda x: x.isnumeric(), strings))\n",
    "\n",
    "strings = ['123','4506','abc', 'def']\n",
    "print(check_numeric(strings))"
   ]
  },
  {
   "cell_type": "code",
   "execution_count": 44,
   "id": "0f760352-ff11-4b7b-9665-d39ef85cd1f4",
   "metadata": {},
   "outputs": [
    {
     "name": "stdout",
     "output_type": "stream",
     "text": [
      "[('orange', 80), ('mango', 99), ('grapes', 1000)]\n"
     ]
    }
   ],
   "source": [
    "# Sort a list of tuples having fruit names and their quantity:\n",
    "fruits = [(\"mango\", 99), (\"orange\", 80),(\"grapes\",1000)]\n",
    "sorted_fruits = sorted(fruits, key=lambda x: x[1])\n",
    "print(sorted_fruits)"
   ]
  },
  {
   "cell_type": "code",
   "execution_count": 50,
   "id": "c9944525-668b-4324-ab7f-e3b187993627",
   "metadata": {},
   "outputs": [],
   "source": [
    "# Find the squares of numbers from 1 to 10:\n",
    "l=[x**2 for x in range(1,11)]"
   ]
  },
  {
   "cell_type": "code",
   "execution_count": 51,
   "id": "549bdbc3-a359-4c9d-a102-94bed0e39e45",
   "metadata": {},
   "outputs": [
    {
     "name": "stdout",
     "output_type": "stream",
     "text": [
      "[1, 4, 9, 16, 25, 36, 49, 64, 81, 100]\n"
     ]
    }
   ],
   "source": [
    "print(l)"
   ]
  },
  {
   "cell_type": "code",
   "execution_count": 52,
   "id": "3c814412-c199-4a96-a46a-af9f7d2d36a2",
   "metadata": {},
   "outputs": [],
   "source": [
    "# Find the cube root of numbers from 1 to 10:\n",
    "a=[x**3 for x in range(1,11)]"
   ]
  },
  {
   "cell_type": "code",
   "execution_count": 53,
   "id": "13d5b7f3-18e8-42c1-8446-61b9e8e8e296",
   "metadata": {},
   "outputs": [
    {
     "data": {
      "text/plain": [
       "[1, 8, 27, 64, 125, 216, 343, 512, 729, 1000]"
      ]
     },
     "execution_count": 53,
     "metadata": {},
     "output_type": "execute_result"
    }
   ],
   "source": [
    "a"
   ]
  },
  {
   "cell_type": "code",
   "execution_count": 61,
   "id": "601e24c9-1c21-4e18-a82b-204ca5e14b9b",
   "metadata": {},
   "outputs": [],
   "source": [
    "l = [1,2,3,4,5,6,7,8,9,10]"
   ]
  },
  {
   "cell_type": "code",
   "execution_count": 62,
   "id": "ae2a7a88-1837-410f-9e36-142948f1b9ca",
   "metadata": {},
   "outputs": [
    {
     "data": {
      "text/plain": [
       "[1, 2, 3, 4, 5, 6, 7, 8, 9, 10]"
      ]
     },
     "execution_count": 62,
     "metadata": {},
     "output_type": "execute_result"
    }
   ],
   "source": [
    "l"
   ]
  },
  {
   "cell_type": "code",
   "execution_count": 64,
   "id": "4756fb5b-b042-43a7-a560-ef9bd9d9f484",
   "metadata": {},
   "outputs": [
    {
     "data": {
      "text/plain": [
       "[2, 4, 6, 8, 10]"
      ]
     },
     "execution_count": 64,
     "metadata": {},
     "output_type": "execute_result"
    }
   ],
   "source": [
    "list(filter(lambda x: x % 2 == 0, l))"
   ]
  },
  {
   "cell_type": "code",
   "execution_count": 65,
   "id": "1c3f28a7-0d9e-4a19-9fe8-32ad67527d23",
   "metadata": {},
   "outputs": [
    {
     "data": {
      "text/plain": [
       "[1, 3, 5, 7, 9]"
      ]
     },
     "execution_count": 65,
     "metadata": {},
     "output_type": "execute_result"
    }
   ],
   "source": [
    "list(filter(lambda x: x%2 !=0, l))"
   ]
  },
  {
   "cell_type": "code",
   "execution_count": 66,
   "id": "13b5dec7-fc5f-4b09-b2ae-e0b0e761fe27",
   "metadata": {},
   "outputs": [],
   "source": [
    "# Sort a list of integers into positive and negative integers lists:\n",
    "\n",
    "l1 = [1,2,3,4,5,6,-1,-2,-3,-4,-5,0]"
   ]
  },
  {
   "cell_type": "code",
   "execution_count": 67,
   "id": "bdb140de-c295-4080-b7a8-afaa4380e6ab",
   "metadata": {},
   "outputs": [
    {
     "data": {
      "text/plain": [
       "[1, 2, 3, 4, 5, 6, -1, -2, -3, -4, -5, 0]"
      ]
     },
     "execution_count": 67,
     "metadata": {},
     "output_type": "execute_result"
    }
   ],
   "source": [
    "l1"
   ]
  },
  {
   "cell_type": "code",
   "execution_count": 68,
   "id": "d5b54768-3245-484c-97b9-6be30c424d6c",
   "metadata": {},
   "outputs": [
    {
     "data": {
      "text/plain": [
       "[-1, -2, -3, -4, -5]"
      ]
     },
     "execution_count": 68,
     "metadata": {},
     "output_type": "execute_result"
    }
   ],
   "source": [
    "list(filter(lambda x : x<0, l1))"
   ]
  },
  {
   "cell_type": "code",
   "execution_count": 69,
   "id": "03722f5b-cb29-47cd-9dfe-6bc3105e8fe3",
   "metadata": {},
   "outputs": [
    {
     "data": {
      "text/plain": [
       "[1, 2, 3, 4, 5, 6]"
      ]
     },
     "execution_count": 69,
     "metadata": {},
     "output_type": "execute_result"
    }
   ],
   "source": [
    "list(filter(lambda x: x>0, l1))"
   ]
  }
 ],
 "metadata": {
  "kernelspec": {
   "display_name": "Python 3 (ipykernel)",
   "language": "python",
   "name": "python3"
  },
  "language_info": {
   "codemirror_mode": {
    "name": "ipython",
    "version": 3
   },
   "file_extension": ".py",
   "mimetype": "text/x-python",
   "name": "python",
   "nbconvert_exporter": "python",
   "pygments_lexer": "ipython3",
   "version": "3.10.8"
  }
 },
 "nbformat": 4,
 "nbformat_minor": 5
}
